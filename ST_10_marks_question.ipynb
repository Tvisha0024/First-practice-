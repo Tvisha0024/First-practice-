{
  "nbformat": 4,
  "nbformat_minor": 0,
  "metadata": {
    "colab": {
      "provenance": [],
      "authorship_tag": "ABX9TyOlQqrJEnnbrtcN+802EHa2",
      "include_colab_link": true
    },
    "kernelspec": {
      "name": "python3",
      "display_name": "Python 3"
    },
    "language_info": {
      "name": "python"
    }
  },
  "cells": [
    {
      "cell_type": "markdown",
      "metadata": {
        "id": "view-in-github",
        "colab_type": "text"
      },
      "source": [
        "<a href=\"https://colab.research.google.com/github/Tvisha0024/First-practice-/blob/main/ST_10_marks_question.ipynb\" target=\"_parent\"><img src=\"https://colab.research.google.com/assets/colab-badge.svg\" alt=\"Open In Colab\"/></a>"
      ]
    },
    {
      "cell_type": "code",
      "execution_count": 3,
      "metadata": {
        "colab": {
          "base_uri": "https://localhost:8080/"
        },
        "id": "GJrU3SmLyaZo",
        "outputId": "c93d78f4-0ce5-41f1-90cb-0dc06dafb8f1"
      },
      "outputs": [
        {
          "output_type": "stream",
          "name": "stdout",
          "text": [
            "ENter the height: 1.7\n",
            "Enter the weight: 65\n",
            "Normal\n",
            "22\n"
          ]
        }
      ],
      "source": [
        "# Problem statement BMI Question(10 mark question ST-1)\n",
        "# NOte= ROUND up to 2 decimal places\n",
        "\n",
        "height=float(input(\"ENter the height: \"))\n",
        "weight=float(input(\"Enter the weight: \"))\n",
        "\n",
        "BMI=round(weight/(height**2))\n",
        "\n",
        "if BMI<18.5:\n",
        "  print(\"underweight\")\n",
        "elif 18.5<=BMI<25:\n",
        "  print(\"Normal\")\n",
        "elif 25<=BMI<30:\n",
        "  print(\"Overweight\")\n",
        "else:\n",
        "  BMI>=30\n",
        "  print(\"Obese\")\n",
        "\n",
        "print(round(BMI,2))"
      ]
    },
    {
      "cell_type": "code",
      "source": [
        "h_text=input().strip()\n",
        "w_text=input().strip()\n",
        "while h_text == \"\":\n",
        "  h_text = input().strip()\n",
        "while w_text == \"\":\n",
        "  w_text = input().strip()\n",
        "\n",
        "h=float(h_text)\n",
        "w=float(w_text)\n",
        "\n",
        "if h<=0 or w<=0:\n",
        "  print(\"Invalid\")\n",
        "else:\n",
        "  # COmpute BMI\n",
        "  BMI=w/(h*h)\n",
        "\n",
        "  if BMI<18.5:\n",
        "    print(\"underweight\")\n",
        "  elif 18.5<=BMI<25:\n",
        "    print(\"Normal\")\n",
        "  elif 25<=BMI<30:\n",
        "    print(\"Overweight\")\n",
        "  else:\n",
        "    print(\"Obese\")\n",
        "\n",
        "  print(\"BMI:\", round(BMI,2))"
      ],
      "metadata": {
        "colab": {
          "base_uri": "https://localhost:8080/"
        },
        "id": "yjuM9u1i1INN",
        "outputId": "a5661f45-e72a-442c-85cd-b2e19acb44ab"
      },
      "execution_count": 6,
      "outputs": [
        {
          "output_type": "stream",
          "name": "stdout",
          "text": [
            "1.7\n",
            "68\n",
            "Normal\n",
            "BMI: 23.53\n"
          ]
        }
      ]
    },
    {
      "cell_type": "code",
      "source": [
        "# Find the second largest number in list, if not possible print none\n",
        "\n",
        "N=input() # This input is not used in the current logic but kept as in original code\n",
        "\n",
        "#take list input from user\n",
        "numbers_input = input(\"Enter the numbers separated by space: \")\n",
        "numbers_str = numbers_input.split()\n",
        "\n",
        "numbers = []\n",
        "for num_str in numbers_str:\n",
        "    try:\n",
        "        numbers.append(int(num_str))\n",
        "    except ValueError:\n",
        "        # Handle cases where input is not a valid integer\n",
        "        print(f\"Warning: '{num_str}' is not a valid integer and will be ignored.\")\n",
        "        pass\n",
        "\n",
        "# Remove duplicates and sort in descending order\n",
        "unique_numbers = sorted(list(set(numbers)), reverse=True)\n",
        "\n",
        "print(\"Final Result: \")\n",
        "\n",
        "if len(unique_numbers) >= 2:\n",
        "    print(unique_numbers[1])\n",
        "else:\n",
        "    print(\"None\")"
      ],
      "metadata": {
        "id": "wO7ro5Hd3448"
      },
      "execution_count": null,
      "outputs": []
    }
  ]
}