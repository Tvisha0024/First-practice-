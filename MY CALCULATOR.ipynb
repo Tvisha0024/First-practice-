{
  "nbformat": 4,
  "nbformat_minor": 0,
  "metadata": {
    "colab": {
      "provenance": [],
      "authorship_tag": "ABX9TyO8QMIuGVLOsDhGST7QYy5E",
      "include_colab_link": true
    },
    "kernelspec": {
      "name": "python3",
      "display_name": "Python 3"
    },
    "language_info": {
      "name": "python"
    }
  },
  "cells": [
    {
      "cell_type": "markdown",
      "metadata": {
        "id": "view-in-github",
        "colab_type": "text"
      },
      "source": [
        "<a href=\"https://colab.research.google.com/github/Tvisha0024/First-practice-/blob/main/MY%20CALCULATOR.ipynb\" target=\"_parent\"><img src=\"https://colab.research.google.com/assets/colab-badge.svg\" alt=\"Open In Colab\"/></a>"
      ]
    },
    {
      "cell_type": "code",
      "execution_count": 13,
      "metadata": {
        "colab": {
          "base_uri": "https://localhost:8080/"
        },
        "id": "rU5JquEVtj3d",
        "outputId": "de6c38b4-2c45-402c-8daf-13e5579cc72d"
      },
      "outputs": [
        {
          "output_type": "stream",
          "name": "stdout",
          "text": [
            "Welcome to My Calculator\n",
            "Select\n",
            "1 for addition\n",
            "2 for subtraction\n",
            "3 for multiplication\n",
            "4 for sin\n",
            "5 for cos\n",
            "6 for tan\n",
            "7 for division\n",
            "8 for logarithm\n",
            "Enter your operation::8\n",
            "Enter first no:: 2\n",
            "Enter base: 10\n",
            "0.30102999566398114\n"
          ]
        }
      ],
      "source": [
        "from typing import AnyStr\n",
        "import math\n",
        "print(\"Welcome to My Calculator\")\n",
        "print(\"Select\")\n",
        "print(\"1 for addition\")\n",
        "print(\"2 for subtraction\")\n",
        "print(\"3 for multiplication\")\n",
        "print(\"4 for sin\")\n",
        "print(\"5 for cos\")\n",
        "print(\"6 for tan\")\n",
        "print(\"7 for division\")\n",
        "print(\"8 for logarithm\")\n",
        "operation=int(input(\"Enter your operation::\"))\n",
        "if operation==1:\n",
        "  firstnum=int(input(\"Enter 1st no.\"))\n",
        "  secondnum=int(input(\"Enter the 2nd no.\"))\n",
        "  result=firstnum+secondnum\n",
        "  print(result)\n",
        "elif operation==2:\n",
        "  firstnum=int(input(\"Enter 1st no.\"))\n",
        "  secondnum=int(input(\"Enter the 2nd no.\"))\n",
        "  result=firstnum-secondnum\n",
        "  print(result)\n",
        "elif operation==3:\n",
        "  firstnum=int(input(\"Enter 1st no.\"))\n",
        "  secondnum=int(input(\"Enter the 2nd no.\"))\n",
        "  result=firstnum*secondnum\n",
        "  print(result)\n",
        "elif operation==4:\n",
        "    angle=float(input(\"Enter any angle\"))\n",
        "    result=math.sin(math.radians(angle))      #30 degrees\n",
        "    print(result)\n",
        "elif operation==5:\n",
        "     angle=float(input(\"Enter any angle\"))\n",
        "     result=math.cos(math.radians(angle))\n",
        "     print(result)\n",
        "elif operation==6:\n",
        "     angle=float(input(\"Enter any angle\"))\n",
        "     result=math.tan(math.radians(angle))\n",
        "     print(result)\n",
        "elif operation==7:\n",
        "     firstnum=int(input(\"Enter 1st no.\"))\n",
        "     secondnum=int(input(\"Enter the 2nd no.\"))\n",
        "     result=firstnum//secondnum\n",
        "     print(result)\n",
        "elif operation==8:\n",
        "    Enternum=float(input(\"Enter first no:: \"))\n",
        "    base=float(input(\"Enter base: \"))\n",
        "    result=math.log(Enternum,base)\n",
        "    print(result)"
      ]
    }
  ]
}