{
  "nbformat": 4,
  "nbformat_minor": 0,
  "metadata": {
    "colab": {
      "provenance": [],
      "authorship_tag": "ABX9TyMkaRmd6oK37tGzSeTdpyFJ",
      "include_colab_link": true
    },
    "kernelspec": {
      "name": "python3",
      "display_name": "Python 3"
    },
    "language_info": {
      "name": "python"
    }
  },
  "cells": [
    {
      "cell_type": "markdown",
      "metadata": {
        "id": "view-in-github",
        "colab_type": "text"
      },
      "source": [
        "<a href=\"https://colab.research.google.com/github/Tvisha0024/First-practice-/blob/main/word_guessing_statement_que.ipynb\" target=\"_parent\"><img src=\"https://colab.research.google.com/assets/colab-badge.svg\" alt=\"Open In Colab\"/></a>"
      ]
    },
    {
      "cell_type": "code",
      "execution_count": 22,
      "metadata": {
        "colab": {
          "base_uri": "https://localhost:8080/"
        },
        "id": "KzWvU0cNJm2_",
        "outputId": "d9dbecc9-f489-46a4-91df-1676144b1eec"
      },
      "outputs": [
        {
          "output_type": "stream",
          "name": "stdout",
          "text": [
            "---WELCOME TO THE WORD SCRAMBLE GAME---\n",
            "\n",
            " A jumbled word will be displayed, you are required to guess the word\n",
            "Get ready and enjoy!\n",
            "Scrambled word is ::  acatjipsrv\n",
            "Enter your guess : java\n",
            "Sorry you guessed it wrong\n",
            "The word was javascript\n"
          ]
        }
      ],
      "source": [
        "print(\"---WELCOME TO THE WORD SCRAMBLE GAME---\")\n",
        "print(\"\\n A jumbled word will be displayed, you are required to guess the word\")\n",
        "print(\"Get ready and enjoy!\")\n",
        "import random\n",
        "\n",
        "words=[\"python\",\"javascript\",\"laptop\",\"water\",\"Game\"]\n",
        "word=random.choice(words) #random.choice()- it picks the random word from the desired list\n",
        "jumbled=\"\".join(random.sample(word,len(word))) #random.sample- it randomly selects characters from the randomly chosen word\n",
        "                                               #,(len(word))- it picks all the characters of the word but randomly\n",
        "                                              # \"\"join- it joins all the randomly chosen alphabets\n",
        "                                              #eg - random.sample(\"python\", 6) might return ['t', 'o', 'n', 'h', 'p', 'y'].\n",
        "                                              #soo by using \"\"join['t', 'o', 'n', 'h', 'p', 'y'] → \"tonhpy\"\n",
        "\n",
        "print(\"Scrambled word is :: \",jumbled)\n",
        "guess=input(\"Enter your guess : \")\n",
        "if guess == word:\n",
        "  print(\"Congratulations, you guessed it right\")\n",
        "elif guess != word:\n",
        "  print(\"Sorry you guessed it wrong\")\n",
        "  print(\"The word was\", word)\n"
      ]
    }
  ]
}