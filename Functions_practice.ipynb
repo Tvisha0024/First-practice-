{
  "nbformat": 4,
  "nbformat_minor": 0,
  "metadata": {
    "colab": {
      "provenance": [],
      "authorship_tag": "ABX9TyOfn120INrCgKhiFm9iQboB",
      "include_colab_link": true
    },
    "kernelspec": {
      "name": "python3",
      "display_name": "Python 3"
    },
    "language_info": {
      "name": "python"
    }
  },
  "cells": [
    {
      "cell_type": "markdown",
      "metadata": {
        "id": "view-in-github",
        "colab_type": "text"
      },
      "source": [
        "<a href=\"https://colab.research.google.com/github/Tvisha0024/First-practice-/blob/main/Functions_practice.ipynb\" target=\"_parent\"><img src=\"https://colab.research.google.com/assets/colab-badge.svg\" alt=\"Open In Colab\"/></a>"
      ]
    },
    {
      "cell_type": "code",
      "execution_count": 6,
      "metadata": {
        "colab": {
          "base_uri": "https://localhost:8080/"
        },
        "id": "xypeYRlXd7Mj",
        "outputId": "928c138c-aa85-433a-ef0a-4d4256f5770a"
      },
      "outputs": [
        {
          "output_type": "stream",
          "name": "stdout",
          "text": [
            "Hello\n",
            "Hello\n"
          ]
        }
      ],
      "source": [
        "def print_Hello():\n",
        "  print(\"Hello\")\n",
        "Print=print_Hello\n",
        "print_Hello()\n",
        "print_Hello()"
      ]
    },
    {
      "cell_type": "code",
      "source": [
        "# AVerage of 3 numbers\n",
        "def calc_average(a,b,c):\n",
        "  sum = a+b+c\n",
        "  average= sum/3\n",
        "  return average\n",
        "\n",
        "calc_average(1,2,3)\n",
        "calc_average(10,20,30)"
      ],
      "metadata": {
        "colab": {
          "base_uri": "https://localhost:8080/"
        },
        "id": "cgOt_BpneyTP",
        "outputId": "f5b61dd9-bf51-412d-a967-9c99737320f3"
      },
      "execution_count": 8,
      "outputs": [
        {
          "output_type": "execute_result",
          "data": {
            "text/plain": [
              "20.0"
            ]
          },
          "metadata": {},
          "execution_count": 8
        }
      ]
    },
    {
      "cell_type": "code",
      "source": [
        "# WAF to print the lenth of a list\n",
        "cities=[\"DElhi\",\"Mumbai\",\"Chennai\",\"Patiala\",\"Noida\",\"gurgaon\"]\n",
        "fruits=[\"Apple\",\"Mango\",\"BAnana\",\"Guava\"]\n",
        "heroes=[\"Thor\",\"Superman\"]\n",
        "\n",
        "\n",
        "\n",
        "def print_len(list):\n",
        "  print(len(list))\n",
        "\n",
        "print_len(cities)\n",
        "print_len(fruits)\n",
        "print_len(heroes)"
      ],
      "metadata": {
        "colab": {
          "base_uri": "https://localhost:8080/"
        },
        "id": "Uc-WSXljmN53",
        "outputId": "94f66a8d-8d83-4f56-e66e-feae774ff40b"
      },
      "execution_count": 10,
      "outputs": [
        {
          "output_type": "stream",
          "name": "stdout",
          "text": [
            "6\n",
            "4\n",
            "2\n"
          ]
        }
      ]
    },
    {
      "cell_type": "code",
      "source": [
        "#WAF to write factorial of n.(n is the parameter)\n",
        "\n",
        "n=5\n",
        "\n",
        "def calc_fact(n):\n",
        "  fact = 1\n",
        "  for i in range( 1 , n+1):\n",
        "    fact *= i\n",
        "    print(fact)\n",
        "\n",
        "calc_fact(5)\n"
      ],
      "metadata": {
        "colab": {
          "base_uri": "https://localhost:8080/"
        },
        "id": "5eSaqEF5noFd",
        "outputId": "327effdd-fb58-44cc-8e74-3f8d099a08a3"
      },
      "execution_count": 19,
      "outputs": [
        {
          "output_type": "stream",
          "name": "stdout",
          "text": [
            "1\n",
            "2\n",
            "6\n",
            "24\n",
            "120\n"
          ]
        }
      ]
    },
    {
      "cell_type": "code",
      "source": [
        "# WAF to convert USD to INR\n",
        "\n",
        "def converter(USD_val):\n",
        "  INR_val = USD_val*83\n",
        "  print(USD_val, \"USD = \", INR_val, \"INR \")\n",
        "\n",
        "converter(2)\n",
        "\n",
        ""
      ],
      "metadata": {
        "colab": {
          "base_uri": "https://localhost:8080/"
        },
        "id": "gRmbC7wqp7nL",
        "outputId": "580367dc-da39-418c-f381-a4300053185b"
      },
      "execution_count": 28,
      "outputs": [
        {
          "output_type": "stream",
          "name": "stdout",
          "text": [
            "2 USD =  166 INR \n"
          ]
        }
      ]
    },
    {
      "cell_type": "code",
      "source": [
        "# WAF which takes a number as input and takes string value as odd or even\n",
        "def test_odd_even(num):\n",
        "  if num % 2 == 0:\n",
        "    return \"even\"\n",
        "  else:\n",
        "      return \"odd\"\n",
        "\n",
        "test_odd_even(8)"
      ],
      "metadata": {
        "colab": {
          "base_uri": "https://localhost:8080/",
          "height": 36
        },
        "id": "cBEPOrNVr1GJ",
        "outputId": "985c18e8-6959-4afa-dec9-d8f568af7711"
      },
      "execution_count": 30,
      "outputs": [
        {
          "output_type": "execute_result",
          "data": {
            "text/plain": [
              "'even'"
            ],
            "application/vnd.google.colaboratory.intrinsic+json": {
              "type": "string"
            }
          },
          "metadata": {},
          "execution_count": 30
        }
      ]
    }
  ]
}