{
  "nbformat": 4,
  "nbformat_minor": 0,
  "metadata": {
    "colab": {
      "provenance": [],
      "authorship_tag": "ABX9TyOWTWmA6ydnanCGQ5Q18Rfb",
      "include_colab_link": true
    },
    "kernelspec": {
      "name": "python3",
      "display_name": "Python 3"
    },
    "language_info": {
      "name": "python"
    }
  },
  "cells": [
    {
      "cell_type": "markdown",
      "metadata": {
        "id": "view-in-github",
        "colab_type": "text"
      },
      "source": [
        "<a href=\"https://colab.research.google.com/github/Tvisha0024/First-practice-/blob/main/Guess_the_number.ipynb\" target=\"_parent\"><img src=\"https://colab.research.google.com/assets/colab-badge.svg\" alt=\"Open In Colab\"/></a>"
      ]
    },
    {
      "cell_type": "code",
      "execution_count": 11,
      "metadata": {
        "colab": {
          "base_uri": "https://localhost:8080/"
        },
        "id": "SCh7d9WHT-3_",
        "outputId": "e75d87e6-bc68-47ac-e69f-cd57e7a2dada"
      },
      "outputs": [
        {
          "output_type": "stream",
          "name": "stdout",
          "text": [
            "---GUESS THE NUMBER GAME---\n",
            " I have picked a number between 0- 10\n",
            "YOu have 3 chances to guess the number\n",
            "Enter your guess 1 :: 5\n",
            " Too Low try again.\n",
            "Enter your 2nd Guess:: 6\n",
            "Try a higher number.\n",
            "Enter your last Guess:: 8\n",
            "Sorry you are out of guesses.\n",
            "The number was 10\n"
          ]
        }
      ],
      "source": [
        "print(\"---GUESS THE NUMBER GAME---\")\n",
        "import random\n",
        "number = random.randint(1,10)\n",
        "print(\" I have picked a number between 0- 10\")\n",
        "print(\"YOu have 3 chances to guess the number\")\n",
        "value1 = float(input(\"Enter your guess 1 :: \"))\n",
        "if value1 == number:\n",
        "  print(\"Congratulations! You have guessed the number in first try.\")\n",
        "elif value1 > number:\n",
        "  print(\" Oops! Too high try again.\")\n",
        "else:\n",
        "  print(\" Too Low try again.\")\n",
        "value2 = float(input(\"Enter your 2nd Guess:: \"))\n",
        "if value2 == number:\n",
        "  print(\"Congratulations! You have guessed the number in second try.\")\n",
        "elif value2 > number:\n",
        "  print(\"Try a lower number.\")\n",
        "else :\n",
        "  print(\"Try a higher number.\")\n",
        "value3 = float(input(\"Enter your last Guess:: \"))\n",
        "if value3 == number:\n",
        "  print(\" Congratulations! Finally you have guessed the number.\")\n",
        "elif value3 > number:\n",
        "  print(\"Too High\")\n",
        "else :\n",
        "  print(\"Sorry you are out of guesses.\")\n",
        "print(\"The number was\",number)"
      ]
    }
  ]
}