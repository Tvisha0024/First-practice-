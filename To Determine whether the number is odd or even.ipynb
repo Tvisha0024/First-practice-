{
  "nbformat": 4,
  "nbformat_minor": 0,
  "metadata": {
    "colab": {
      "provenance": [],
      "authorship_tag": "ABX9TyNZ9uEVM92sA2wndQTC9rHQ",
      "include_colab_link": true
    },
    "kernelspec": {
      "name": "python3",
      "display_name": "Python 3"
    },
    "language_info": {
      "name": "python"
    }
  },
  "cells": [
    {
      "cell_type": "markdown",
      "metadata": {
        "id": "view-in-github",
        "colab_type": "text"
      },
      "source": [
        "<a href=\"https://colab.research.google.com/github/Tvisha0024/First-practice-/blob/main/To%20Determine%20whether%20the%20number%20is%20odd%20or%20even.ipynb\" target=\"_parent\"><img src=\"https://colab.research.google.com/assets/colab-badge.svg\" alt=\"Open In Colab\"/></a>"
      ]
    },
    {
      "cell_type": "code",
      "execution_count": 26,
      "metadata": {
        "colab": {
          "base_uri": "https://localhost:8080/"
        },
        "id": "MxSi4WD0l8ke",
        "outputId": "a44c9a01-a52c-41eb-83cb-d185c7b7e293"
      },
      "outputs": [
        {
          "output_type": "stream",
          "name": "stdout",
          "text": [
            "TO DETERMINE ODD AND EVEN FUNCTION\n",
            "Enter the number5\n",
            "odd\n"
          ]
        }
      ],
      "source": [
        "print(\"TO DETERMINE ODD AND EVEN FUNCTION\")\n",
        "operation = float(input(\"Enter the number\"))\n",
        "if operation % 2 == 0:\n",
        "  result = \"even\"\n",
        "  print(result)\n",
        "else:\n",
        "  result = \"odd\"\n",
        "  print(result)"
      ]
    }
  ]
}