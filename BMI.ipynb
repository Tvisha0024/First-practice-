{
  "nbformat": 4,
  "nbformat_minor": 0,
  "metadata": {
    "colab": {
      "provenance": [],
      "authorship_tag": "ABX9TyN/k4ImYZAoo/a1i4GxWHY1",
      "include_colab_link": true
    },
    "kernelspec": {
      "name": "python3",
      "display_name": "Python 3"
    },
    "language_info": {
      "name": "python"
    }
  },
  "cells": [
    {
      "cell_type": "markdown",
      "metadata": {
        "id": "view-in-github",
        "colab_type": "text"
      },
      "source": [
        "<a href=\"https://colab.research.google.com/github/Tvisha0024/First-practice-/blob/main/BMI.ipynb\" target=\"_parent\"><img src=\"https://colab.research.google.com/assets/colab-badge.svg\" alt=\"Open In Colab\"/></a>"
      ]
    },
    {
      "cell_type": "code",
      "execution_count": 27,
      "metadata": {
        "colab": {
          "base_uri": "https://localhost:8080/"
        },
        "id": "AnhkM0ke9FSh",
        "outputId": "3c42fac0-b9a1-401f-aaee-65f343b870be"
      },
      "outputs": [
        {
          "output_type": "stream",
          "name": "stdout",
          "text": [
            "---- BMI CALCULATOR ----\n",
            "Enter your weight \n",
            " (in kgs)    :: 100\n",
            "Enter your height \n",
            " (in meteres):: 1.7\n",
            "34.602076124567475\n",
            "Obese \n",
            " DIET RECOMMENDED \n",
            " 1) Refined Grains: Steer clear of white bread and other refined grain products. \n",
            " 2) Sugary Drinks: Avoid sweetened beverages that add unnecessary calories without providing nutrients. \n",
            " 3) Fried and Fatty Foods: Limit fried foods, excess butter, and foods high in fats. \n",
            " 4)Processed Foods: Reduce consumption of processed items, which are often high in calories and low in nutrients. \n",
            " 5) Start with a Salad: Begin meals with a salad to help you feel fuller and control subsequent food intake. \n"
          ]
        }
      ],
      "source": [
        "print(\"---- BMI CALCULATOR ----\")\n",
        "weight=float(input(\"Enter your weight \\n (in kgs)    :: \"))\n",
        "height=float(input(\"Enter your height \\n (in meteres):: \"))\n",
        "BMI=weight/(height*height)\n",
        "print(BMI)\n",
        "if BMI<18.5:\n",
        "   print(\"Underweight \\n DIET RECOMMENDED \\n 1) Focus on eating energy-dense foods like nuts, dried fruits, avocados, full-fat dairy etc. \\n 2) Eat smaller, frequent meals and snacks throughout the day to increase calorie intake. \\n 3) Incorporate high-protein foods like red meat, eggs, and salmon to build muscle\")\n",
        "elif BMI>=18.5 and BMI<25:\n",
        "   print(\"Normal \\n Healthy \\n DIET RECOMMENDED TO STAY FIT \\n 1) Drink Water: Make water your primary beverage. \\n 2)Healthy Fats: Choose unsaturated oils, such as olive or canola oil, and incorporate foods rich in healthy fats like avocados, nuts, and seeds. \\n 3) Read Labels: Look for foods that are low in added sugars, sodium, and unhealthy fats. \\n 4) Portion Control: Pay attention to portion sizes to stay within your daily calorie needs. \\n 5) Variety: Eating a wide range of foods from all the food groups helps ensure you get a diverse range of nutrients. \")\n",
        "elif BMI>=25 and BMI< 29:\n",
        "   print(\"Overweight \\n DIET RECOMMENDED \\n 1)Increase Fiber Intake: Emphasize fruits and vegetables, which are high in fiber and can help your dog feel full with fewer calories. \\n 2) Choose Lean Proteins: Opt for lean meats, poultry, fish, and beans as protein sources. These are crucial for satiety and overall health. \\n 3) Incorporate Whole Grains: Include high-fiber whole grains like brown rice, whole-wheat bread, and pasta in your dog's diet. \\n 4) Select Low-Fat Dairy: Choose fat-free or low-fat dairy options like yogurt and milk. \\n 5) Stay Hydrated: Drink plenty of water and avoid sugary drinks. \")\n",
        "else :\n",
        "   BMI>29\n",
        "   print(\"Obese \\n DIET RECOMMENDED \\n 1) Refined Grains: Steer clear of white bread and other refined grain products. \\n 2) Sugary Drinks: Avoid sweetened beverages that add unnecessary calories without providing nutrients. \\n 3) Fried and Fatty Foods: Limit fried foods, excess butter, and foods high in fats. \\n 4)Processed Foods: Reduce consumption of processed items, which are often high in calories and low in nutrients. \\n 5) Start with a Salad: Begin meals with a salad to help you feel fuller and control subsequent food intake. \")"
      ]
    }
  ]
}