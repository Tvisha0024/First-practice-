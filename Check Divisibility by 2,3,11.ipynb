{
  "nbformat": 4,
  "nbformat_minor": 0,
  "metadata": {
    "colab": {
      "provenance": [],
      "authorship_tag": "ABX9TyOIkW1IZqljGBUYJQuMukHi",
      "include_colab_link": true
    },
    "kernelspec": {
      "name": "python3",
      "display_name": "Python 3"
    },
    "language_info": {
      "name": "python"
    }
  },
  "cells": [
    {
      "cell_type": "markdown",
      "metadata": {
        "id": "view-in-github",
        "colab_type": "text"
      },
      "source": [
        "<a href=\"https://colab.research.google.com/github/Tvisha0024/First-practice-/blob/main/Check%20Divisibility%20by%202%2C3%2C11.ipynb\" target=\"_parent\"><img src=\"https://colab.research.google.com/assets/colab-badge.svg\" alt=\"Open In Colab\"/></a>"
      ]
    },
    {
      "cell_type": "code",
      "execution_count": 41,
      "metadata": {
        "colab": {
          "base_uri": "https://localhost:8080/"
        },
        "id": "52xLSWYMuGgd",
        "outputId": "d3cd87da-7485-4c69-a783-afd6e2f8d2a5"
      },
      "outputs": [
        {
          "output_type": "stream",
          "name": "stdout",
          "text": [
            "----To Check Divisibility by 2,3,11----\n",
            "Enter the value:: 4\n",
            " Your value is divisble by 2\n"
          ]
        }
      ],
      "source": [
        "print(\"----To Check Divisibility by 2,3,11----\")\n",
        "\n",
        "value=float(input(\"Enter the value:: \"))\n",
        "if value % 2==0  and value % 3 ==0:    # elif statement runs one operation at a particular time. so always write operation in priority order.\n",
        "   print(\"Your value is divisible by both 2 and 3\")\n",
        "elif value % 2==0 and value % 11 ==0:\n",
        "   print(\"Your value is divisible by both 2 and 11\")\n",
        "elif value % 3==0 and value %11==0:\n",
        "   print(\"Your value is divisible by both 3 and 11\")\n",
        "elif value % 3 == 0:\n",
        "   print(\"Your value is divisible by 3\")\n",
        "elif value % 11 == 0:\n",
        "      print(\"Your value is divisible by 11\")\n",
        "else :\n",
        "   value % 2 ==0\n",
        "   print(\" Your value is divisble by 2\")\n"
      ]
    }
  ]
}