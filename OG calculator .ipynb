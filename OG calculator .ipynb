{
  "nbformat": 4,
  "nbformat_minor": 0,
  "metadata": {
    "colab": {
      "provenance": [],
      "authorship_tag": "ABX9TyMj3bUeT6qbQJZomuK8coJb",
      "include_colab_link": true
    },
    "kernelspec": {
      "name": "python3",
      "display_name": "Python 3"
    },
    "language_info": {
      "name": "python"
    }
  },
  "cells": [
    {
      "cell_type": "markdown",
      "metadata": {
        "id": "view-in-github",
        "colab_type": "text"
      },
      "source": [
        "<a href=\"https://colab.research.google.com/github/Tvisha0024/First-practice-/blob/main/OG%20calculator%20.ipynb\" target=\"_parent\"><img src=\"https://colab.research.google.com/assets/colab-badge.svg\" alt=\"Open In Colab\"/></a>"
      ]
    },
    {
      "cell_type": "code",
      "execution_count": 27,
      "metadata": {
        "colab": {
          "base_uri": "https://localhost:8080/"
        },
        "id": "k5BP_UitJpEh",
        "outputId": "52373330-475d-4ae4-fb2e-3bbfbac7be83"
      },
      "outputs": [
        {
          "output_type": "stream",
          "name": "stdout",
          "text": [
            " Select 1 for addition,2 for subtraction,3 for multiplication,4 for sin ,5 for cos,6 for tan,7 for division\n",
            "Enter your operation::6\n",
            "Enter any angle45\n",
            "0.9999999999999999\n"
          ]
        }
      ],
      "source": [
        "import math\n",
        "print(\" Select 1 for addition,2 for subtraction,3 for multiplication,4 for sin ,5 for cos,6 for tan,7 for division\")\n",
        "operation=int(input(\"Enter your operation::\"))\n",
        "if operation==1:\n",
        "  firstnum=int(input(\"Enter 1st no.\"))\n",
        "  secondnum=int(input(\"Enter the 2nd no.\"))\n",
        "  result=firstnum+secondnum\n",
        "  print(result)\n",
        "elif operation==2:\n",
        "  firstnum=int(input(\"Enter 1st no.\"))\n",
        "  secondnum=int(input(\"Enter the 2nd no.\"))\n",
        "  result=firstnum-secondnum\n",
        "  print(result)\n",
        "elif operation==3:\n",
        "  firstnum=int(input(\"Enter 1st no.\"))\n",
        "  secondnum=int(input(\"Enter the 2nd no.\"))\n",
        "  result=firstnum*secondnum\n",
        "  print(result)\n",
        "elif operation==4:\n",
        "    angle=float(input(\"Enter any angle\"))\n",
        "    result=math.sin(math.radians(angle))      #30 degrees\n",
        "    print(result)\n",
        "elif operation==5:\n",
        "    angle=float(input(\"Enter any angle\"))\n",
        "    result=math.cos(math.radians(angle))\n",
        "    print(result)\n",
        "elif operation==6:\n",
        "    angle=float(input(\"Enter any angle\"))\n",
        "    result=math.tan(math.radians(angle))\n",
        "    print(result)"
      ]
    }
  ]
}