{
  "nbformat": 4,
  "nbformat_minor": 0,
  "metadata": {
    "colab": {
      "provenance": [],
      "authorship_tag": "ABX9TyNBGA9D7qNZLOk5lLxQyC7+",
      "include_colab_link": true
    },
    "kernelspec": {
      "name": "python3",
      "display_name": "Python 3"
    },
    "language_info": {
      "name": "python"
    }
  },
  "cells": [
    {
      "cell_type": "markdown",
      "metadata": {
        "id": "view-in-github",
        "colab_type": "text"
      },
      "source": [
        "<a href=\"https://colab.research.google.com/github/Tvisha0024/First-practice-/blob/main/String_manipulator_prototype.ipynb\" target=\"_parent\"><img src=\"https://colab.research.google.com/assets/colab-badge.svg\" alt=\"Open In Colab\"/></a>"
      ]
    },
    {
      "cell_type": "code",
      "execution_count": 4,
      "metadata": {
        "colab": {
          "base_uri": "https://localhost:8080/"
        },
        "id": "Ovrkngfjh4_O",
        "outputId": "feb003db-788f-4b61-f7e8-6c3a86993f56"
      },
      "outputs": [
        {
          "output_type": "stream",
          "name": "stdout",
          "text": [
            "||STRING MANIPULATOR||\n",
            " Select 1 for UPPERCASE.\n",
            " Select 2 for LOWERCASE.\n",
            " Select 3 for title.\n",
            " Select 4 for count.\n",
            " Select 5 for find.\n",
            " Select 6 for swapcase. \n",
            " Select 7 for split.\n",
            "Enter the operation you want to perform:: 3\n",
            "Enter the string:: hello all\n",
            "Hello All\n"
          ]
        }
      ],
      "source": [
        "print(\"||STRING MANIPULATOR||\")\n",
        "print(\" Select 1 for UPPERCASE.\")\n",
        "print(\" Select 2 for LOWERCASE.\")\n",
        "print(\" Select 3 for title.\")\n",
        "print(\" Select 4 for count.\")\n",
        "print(\" Select 5 for find.\")\n",
        "print(\" Select 6 for swapcase. \")\n",
        "print(\" Select 7 for split.\")\n",
        "\n",
        "operation =int(input(\"Enter the operation you want to perform:: \"))\n",
        "if operation == 1:\n",
        "   string = input(\"Enter the string:: \")\n",
        "   x=string.upper()\n",
        "   print(x)\n",
        "elif operation ==2:\n",
        "   string = input(\"Enter the string:: \")\n",
        "   y=string.lower()\n",
        "   print(y)\n",
        "elif operation ==3:\n",
        "   string = input(\"Enter the string:: \")\n",
        "   z=string.title()\n",
        "   print(z)\n",
        "elif operation ==4:\n",
        ""
      ]
    }
  ]
}