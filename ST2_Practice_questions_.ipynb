{
  "nbformat": 4,
  "nbformat_minor": 0,
  "metadata": {
    "colab": {
      "provenance": [],
      "authorship_tag": "ABX9TyMz5GnBqC93Zt0Wc6cDAzDF",
      "include_colab_link": true
    },
    "kernelspec": {
      "name": "python3",
      "display_name": "Python 3"
    },
    "language_info": {
      "name": "python"
    }
  },
  "cells": [
    {
      "cell_type": "markdown",
      "metadata": {
        "id": "view-in-github",
        "colab_type": "text"
      },
      "source": [
        "<a href=\"https://colab.research.google.com/github/Tvisha0024/First-practice-/blob/main/ST2_Practice_questions_.ipynb\" target=\"_parent\"><img src=\"https://colab.research.google.com/assets/colab-badge.svg\" alt=\"Open In Colab\"/></a>"
      ]
    },
    {
      "cell_type": "code",
      "execution_count": null,
      "metadata": {
        "id": "vXf-yroNOXNY"
      },
      "outputs": [],
      "source": [
        "#Write a Python program using list comprehension to generate a list of squares for\n",
        "#all numbers from 1 to N that are even. Ensure that only positive integers are accepted as input.\n",
        "\n",
        "N = int(input(\"Enter positive integer: \"))\n",
        "sqaure = [x**2 for x in range(1,N+1) if x%2==0]\n",
        "print(sqaure)\n"
      ]
    },
    {
      "cell_type": "code",
      "source": [
        "#Using list comprehension,\n",
        "#extract all words that start with a vowel from a given list of words. The program must handle both uppercase and lowercase letters.\n",
        "\n",
        "words = input(\"Enter the words: \")\n",
        "\n",
        "vowel_words = [word for word in words if word[0].lower() in 'aeiou']\n",
        "\n",
        "#List comprehension [<operation to be performed on variable>| <loop on lost/string> | <condition on variable>]\n",
        "\n",
        "print(vowel_words)"
      ],
      "metadata": {
        "id": "fWBrLvb3TTBN"
      },
      "execution_count": null,
      "outputs": []
    },
    {
      "cell_type": "code",
      "source": [
        "# Using list comprehension print pallindrome or not\n",
        "words = input(\"Enter the words: \").lower()\n",
        "rev=words[::-1].lower()\n",
        "\n",
        "square= [\"Its a pallindrome\" if words==rev else \"Its not a pallindrome\"]\n",
        "\n",
        "print(sqaure)"
      ],
      "metadata": {
        "id": "iFAwenCMYgr2"
      },
      "execution_count": null,
      "outputs": []
    },
    {
      "cell_type": "code",
      "source": [
        "#Create a list of numbers between 1 and N that are divisible by 3 using list comprehension\n",
        "\n",
        "N=int(input(\"Enter the number: \"))\n",
        "\n",
        "Divisible= [x for x in range(1,N+1) if x%3==0]\n",
        "print(Divisible)"
      ],
      "metadata": {
        "id": "ZqgzlezZXG82"
      },
      "execution_count": null,
      "outputs": []
    },
    {
      "cell_type": "code",
      "source": [
        "# Given a list of temperatures in Celsius, use list comprehension to convert them into Fahrenheit.\n",
        "n = list(map(int,input().split()))\n",
        "print(n)\n",
        "\n",
        "TempFah=[round((9/5)*c+32,2) for c in n]\n",
        "print(TempFah)"
      ],
      "metadata": {
        "colab": {
          "base_uri": "https://localhost:8080/"
        },
        "id": "wDRUh1ubdRtn",
        "outputId": "4e3a714c-2fcc-4143-c877-806e18d265b3"
      },
      "execution_count": 26,
      "outputs": [
        {
          "output_type": "stream",
          "name": "stdout",
          "text": [
            "22 54 66\n",
            "[22, 54, 66]\n",
            "[71.6, 129.2, 150.8]\n"
          ]
        }
      ]
    },
    {
      "cell_type": "code",
      "source": [
        "# Read a list of positive integers\n",
        "# and filter only primes. Implement a helper is_prime(n) and then use filter to retain primes.\n",
        "# If input contains non-positive integers, print Invalid input.\n"
      ],
      "metadata": {
        "id": "KBzAjr5RXuwM"
      },
      "execution_count": null,
      "outputs": []
    },
    {
      "cell_type": "code",
      "metadata": {
        "id": "11cad976"
      },
      "source": [
        "def is_prime(n):\n",
        "  if n <= 1:\n",
        "    return False\n",
        "    for i in range(2, int(n**0.5) + 1):\n",
        "      if n % i == 0:\n",
        "        return False\n",
        "  return True\n",
        "input_str = input(\"Enter a list of positive integers separated by spaces: \")\n",
        "try:\n",
        "    numbers = list(map(int, input_str.split()))\n",
        "    if any(n <= 0 for n in numbers):\n",
        "        print(\"Invalid input: Please enter only positive integers.\")\n",
        "    else:\n",
        "\n",
        "        prime_numbers = list(filter(is_prime, numbers))\n",
        "        print(\"Prime numbers:\", prime_numbers)\n",
        "\n",
        "except ValueError:\n",
        "    print(\"Invalid input: Please enter integers only.\")"
      ],
      "execution_count": null,
      "outputs": []
    }
  ]
}