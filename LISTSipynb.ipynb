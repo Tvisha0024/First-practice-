{
  "nbformat": 4,
  "nbformat_minor": 0,
  "metadata": {
    "colab": {
      "provenance": [],
      "authorship_tag": "ABX9TyMUTriPHSH8In+OhDUSfW1U",
      "include_colab_link": true
    },
    "kernelspec": {
      "name": "python3",
      "display_name": "Python 3"
    },
    "language_info": {
      "name": "python"
    }
  },
  "cells": [
    {
      "cell_type": "markdown",
      "metadata": {
        "id": "view-in-github",
        "colab_type": "text"
      },
      "source": [
        "<a href=\"https://colab.research.google.com/github/Tvisha0024/First-practice-/blob/main/LISTSipynb.ipynb\" target=\"_parent\"><img src=\"https://colab.research.google.com/assets/colab-badge.svg\" alt=\"Open In Colab\"/></a>"
      ]
    },
    {
      "cell_type": "code",
      "execution_count": null,
      "metadata": {
        "colab": {
          "base_uri": "https://localhost:8080/"
        },
        "id": "UWaTkcbl6dWQ",
        "outputId": "9b2b5bfc-94f0-40dd-ca50-08fdae7913c9"
      },
      "outputs": [
        {
          "output_type": "stream",
          "name": "stdout",
          "text": [
            "2\n"
          ]
        }
      ],
      "source": [
        "i=1\n",
        "while i<6:\n",
        "  i=i+1\n",
        "  if i ==3:\n",
        "    break\n",
        "  print(i)\n",
        "  # loop 1\n",
        "  #i=1\n",
        "  #then i=2\n",
        "  #print 2\n",
        "  #loop 2\n",
        "  # i=2\n",
        "  # then i=3\n",
        "  # break"
      ]
    },
    {
      "cell_type": "code",
      "source": [
        "i =1\n",
        "while i<6:\n",
        "  i=i+1\n",
        "  if i ==3:\n",
        "    continue\n",
        "  print(i)\n",
        "  #loop 1\n",
        "  # i=1 then i=2\n",
        "  #print--2\n",
        "  # loop 2\n",
        "  # i =2 then i=3\n",
        "  # continue statement so print==3 skip\n",
        "  #loop 3\n",
        "  # i =3 then i =4\n",
        "  #print--4\n",
        "  # loop 4\n",
        "  # i = 4 then i= 5\n",
        "  #print--5\n",
        "  #loop 5\n",
        "  #i= 5 then i=6\n",
        "  #print--6"
      ],
      "metadata": {
        "colab": {
          "base_uri": "https://localhost:8080/"
        },
        "id": "nxjPFziQ7r74",
        "outputId": "90799fa9-965b-4a94-e4ca-3964dd42cc73"
      },
      "execution_count": null,
      "outputs": [
        {
          "output_type": "stream",
          "name": "stdout",
          "text": [
            "2\n",
            "4\n",
            "5\n",
            "6\n"
          ]
        }
      ]
    },
    {
      "cell_type": "code",
      "source": [
        "i =1\n",
        "while i<6:\n",
        "  i=i+1\n",
        "  if i ==3:\n",
        "    continue\n",
        "\n",
        "  print(i)\n",
        "else :\n",
        "     print(\"i is no longer less than 6\")"
      ],
      "metadata": {
        "colab": {
          "base_uri": "https://localhost:8080/"
        },
        "id": "UCJ-kiJQ8sOD",
        "outputId": "43343328-e744-46a7-d00e-14385134eb7e"
      },
      "execution_count": null,
      "outputs": [
        {
          "output_type": "stream",
          "name": "stdout",
          "text": [
            "2\n",
            "4\n",
            "5\n",
            "6\n",
            "i is no longer less than 6\n"
          ]
        }
      ]
    },
    {
      "cell_type": "code",
      "source": [
        "fruits = [\"Apple\", \"banana\" , \"cherry\", \"kiwi\"]\n",
        "for (x) in fruits:\n",
        "  print(x)"
      ],
      "metadata": {
        "colab": {
          "base_uri": "https://localhost:8080/"
        },
        "id": "qSJE_Ruv-Si4",
        "outputId": "e3c4c8fe-68be-4637-f95d-d52328e9108b"
      },
      "execution_count": null,
      "outputs": [
        {
          "output_type": "stream",
          "name": "stdout",
          "text": [
            "Apple\n",
            "banana\n",
            "cherry\n",
            "kiwi\n"
          ]
        }
      ]
    },
    {
      "cell_type": "code",
      "source": [
        "fruits = [\"Apple\", \"banana\" , \"cherry\", \"kiwi\"]\n",
        "for (x) in fruits:\n",
        "  print(x)\n",
        "  if x == \"cherry\":\n",
        "     break"
      ],
      "metadata": {
        "colab": {
          "base_uri": "https://localhost:8080/"
        },
        "id": "TSiS8Apo_1ld",
        "outputId": "446488c6-5b61-4281-b8eb-980b052172e1"
      },
      "execution_count": null,
      "outputs": [
        {
          "output_type": "stream",
          "name": "stdout",
          "text": [
            "Apple\n",
            "banana\n",
            "cherry\n"
          ]
        }
      ]
    },
    {
      "cell_type": "code",
      "source": [
        "fruits = [\"Apple\", \"banana\" , \"cherry\", \"kiwi\"]\n",
        "for (x) in fruits:\n",
        "  if x == \"cherry\":\n",
        "     break\n",
        "  print(x)\n"
      ],
      "metadata": {
        "colab": {
          "base_uri": "https://localhost:8080/"
        },
        "id": "Ryt6RQHNAO5a",
        "outputId": "aa2c2483-86e7-482d-e55c-10b2a3614970"
      },
      "execution_count": null,
      "outputs": [
        {
          "output_type": "stream",
          "name": "stdout",
          "text": [
            "Apple\n",
            "banana\n"
          ]
        }
      ]
    },
    {
      "cell_type": "code",
      "source": [
        "for (x) in \"banana\":\n",
        "  print(x)"
      ],
      "metadata": {
        "colab": {
          "base_uri": "https://localhost:8080/"
        },
        "id": "SdXDByTD-ssk",
        "outputId": "7a00c31b-cd32-4971-ff9c-6702dc4ea9ef"
      },
      "execution_count": null,
      "outputs": [
        {
          "output_type": "stream",
          "name": "stdout",
          "text": [
            "b\n",
            "a\n",
            "n\n",
            "a\n",
            "n\n",
            "a\n"
          ]
        }
      ]
    },
    {
      "cell_type": "code",
      "source": [
        "for (x) in range(2,8,2):\n",
        "    print(x)"
      ],
      "metadata": {
        "colab": {
          "base_uri": "https://localhost:8080/"
        },
        "id": "7BRitmugAkhe",
        "outputId": "734a5790-f789-48a4-86ce-9f73456af4e8"
      },
      "execution_count": null,
      "outputs": [
        {
          "output_type": "stream",
          "name": "stdout",
          "text": [
            "2\n",
            "4\n",
            "6\n"
          ]
        }
      ]
    },
    {
      "cell_type": "code",
      "source": [
        "list = [\"apple\",\"banana\",\"cherry\",\"kiwi\",\"mango\",\"Avacado\"]\n",
        "list2 = [\"tropical\",\"coconut\"]\n",
        "list.extend(list2)\n",
        "list.remove(\"banana\")\n",
        "print(list)"
      ],
      "metadata": {
        "colab": {
          "base_uri": "https://localhost:8080/"
        },
        "id": "M1Z40flvCl7T",
        "outputId": "4589e2d8-81e8-426c-d5c2-288bfe31133b"
      },
      "execution_count": null,
      "outputs": [
        {
          "output_type": "stream",
          "name": "stdout",
          "text": [
            "['apple', 'cherry', 'kiwi', 'mango', 'Avacado', 'tropical', 'coconut']\n"
          ]
        }
      ]
    },
    {
      "cell_type": "code",
      "source": [
        "thislist = [\"apple\",\"banana\",\"cherry\",\"kiwi\",\"mango\",\"Avacado\"]\n",
        "i=0\n",
        "while i < len(thislist):\n",
        "  print(thislist[i])\n",
        "  i=i+1"
      ],
      "metadata": {
        "colab": {
          "base_uri": "https://localhost:8080/"
        },
        "id": "cWLuu8ljIDNf",
        "outputId": "99dbe329-cc7f-4341-b648-e29a3fab36f6"
      },
      "execution_count": null,
      "outputs": [
        {
          "output_type": "stream",
          "name": "stdout",
          "text": [
            "apple\n",
            "banana\n",
            "cherry\n",
            "kiwi\n",
            "mango\n",
            "Avacado\n"
          ]
        }
      ]
    }
  ]
}