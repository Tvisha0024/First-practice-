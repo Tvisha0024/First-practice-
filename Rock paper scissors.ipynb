{
  "cells": [
    {
      "cell_type": "markdown",
      "metadata": {
        "id": "view-in-github",
        "colab_type": "text"
      },
      "source": [
        "<a href=\"https://colab.research.google.com/github/Tvisha0024/First-practice-/blob/main/Rock%20paper%20scissors.ipynb\" target=\"_parent\"><img src=\"https://colab.research.google.com/assets/colab-badge.svg\" alt=\"Open In Colab\"/></a>"
      ]
    },
    {
      "cell_type": "code",
      "execution_count": null,
      "metadata": {
        "colab": {
          "background_save": true,
          "base_uri": "https://localhost:8080/"
        },
        "id": "CLPhcrLbYDE9",
        "outputId": "8bf30d86-7eea-43e1-d58b-b557d9182d6e"
      },
      "outputs": [
        {
          "metadata": {
            "tags": null
          },
          "name": "stdout",
          "output_type": "stream",
          "text": [
            "Welcome to Rock,Paper,Scissors Game!\n",
            "The rules of the game is as follows:\n",
            "Rock beats scissors\n",
            "SCissors beats paper\n",
            "Paper beats rock\n",
            "Lets play\n",
            "\n"
          ]
        }
      ],
      "source": [
        "import random\n",
        "# function to display game rules\n",
        "def display_rules():\n",
        "  print(\"Welcome to Rock,Paper,Scissors Game!\")\n",
        "  print(\"The rules of the game is as follows:\")\n",
        "  print(\"Rock beats scissors\")\n",
        "  print(\"SCissors beats paper\")\n",
        "  print(\"Paper beats rock\")\n",
        "  print(\"Lets play\\n\")\n",
        "\n",
        "  #Function to get computers choice\n",
        "def get_computer_choice():\n",
        "  choices = [\"rock\",\"paper\",\"scissors\"]\n",
        "  return random.choice(choices)\n",
        "\n",
        "  #function to get user choice\n",
        "def get_user_choice():\n",
        "  choice= input(\"Enter your choice(rock/paper/scissors): \").lower()\n",
        "  while choice not in [\"rock\",\"paper\",\"scissors\"]:\n",
        "    print(\"Invalid choice! Please try again,\")\n",
        "  return choice\n",
        "\n",
        "  #FUnction to determine the winner\n",
        "def determine_winner(user,computer):\n",
        "  if user == computer:\n",
        "    return\" It is a tie!\"\n",
        "  elif(user == \"rock\" and computer == \"scissors\" ) or \\\n",
        "        (user == \"scissors\" and computer == \"paper\") or \\\n",
        "        (user == \"paper\" and computer == \"rock\"):\n",
        "        return \" You Win!\"\n",
        "  else:\n",
        "               return \"You Lose!\"\n",
        "\n",
        "   #Function to play the game\n",
        "def play_game():\n",
        "    display_rules()\n",
        "    computer_choice = get_computer_choice()\n",
        "    user_choice = get_user_choice()\n",
        "\n",
        "    print(\"\\nYou choose\",user_choice)\n",
        "    print(\"\\nCmputer choice\",computer_choice)\n",
        "    result = determine_winner(user_choice,computer_choice)\n",
        "    print(\"\\n Result: \",result)\n",
        "play_game()"
      ]
    },
    {
      "cell_type": "code",
      "execution_count": null,
      "metadata": {
        "id": "I01P-KDMhcss"
      },
      "outputs": [],
      "source": []
    },
    {
      "cell_type": "markdown",
      "metadata": {
        "id": "kWmbjjBnhdQK"
      },
      "source": []
    }
  ],
  "metadata": {
    "colab": {
      "provenance": [],
      "authorship_tag": "ABX9TyOn4hHpVGxlJCMF5NAvGkIF",
      "include_colab_link": true
    },
    "kernelspec": {
      "display_name": "Python 3",
      "name": "python3"
    },
    "language_info": {
      "name": "python"
    }
  },
  "nbformat": 4,
  "nbformat_minor": 0
}