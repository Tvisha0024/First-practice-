{
  "nbformat": 4,
  "nbformat_minor": 0,
  "metadata": {
    "colab": {
      "provenance": [],
      "authorship_tag": "ABX9TyOSSrEkPC3w4b3F1VGxQnMY",
      "include_colab_link": true
    },
    "kernelspec": {
      "name": "python3",
      "display_name": "Python 3"
    },
    "language_info": {
      "name": "python"
    }
  },
  "cells": [
    {
      "cell_type": "markdown",
      "metadata": {
        "id": "view-in-github",
        "colab_type": "text"
      },
      "source": [
        "<a href=\"https://colab.research.google.com/github/Tvisha0024/First-practice-/blob/main/Pallindrome.ipynb\" target=\"_parent\"><img src=\"https://colab.research.google.com/assets/colab-badge.svg\" alt=\"Open In Colab\"/></a>"
      ]
    },
    {
      "cell_type": "code",
      "execution_count": 17,
      "metadata": {
        "colab": {
          "base_uri": "https://localhost:8080/"
        },
        "id": "_Y70dWW0dt9G",
        "outputId": "c67be055-8901-49e4-d47f-8c551e0bf827"
      },
      "outputs": [
        {
          "output_type": "stream",
          "name": "stdout",
          "text": [
            "---PALLINDROME---\n",
            "Enter a word or a number:: mansi\n",
            "No, its not a pallindrome.\n"
          ]
        }
      ],
      "source": [
        "print(\"---PALLINDROME---\")\n",
        "value =input(\"Enter a word or a number:: \")\n",
        "if value == value[ ::-1]:\n",
        "    print(\"Yes! Its a pallindrome.\")\n",
        "else :\n",
        "     print(\"No, its not a pallindrome.\")"
      ]
    }
  ]
}