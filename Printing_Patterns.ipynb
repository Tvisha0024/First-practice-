{
  "nbformat": 4,
  "nbformat_minor": 0,
  "metadata": {
    "colab": {
      "provenance": [],
      "authorship_tag": "ABX9TyMO63GJCW8/QhUfy6h626OA",
      "include_colab_link": true
    },
    "kernelspec": {
      "name": "python3",
      "display_name": "Python 3"
    },
    "language_info": {
      "name": "python"
    }
  },
  "cells": [
    {
      "cell_type": "markdown",
      "metadata": {
        "id": "view-in-github",
        "colab_type": "text"
      },
      "source": [
        "<a href=\"https://colab.research.google.com/github/Tvisha0024/First-practice-/blob/main/Printing_Patterns.ipynb\" target=\"_parent\"><img src=\"https://colab.research.google.com/assets/colab-badge.svg\" alt=\"Open In Colab\"/></a>"
      ]
    },
    {
      "cell_type": "code",
      "execution_count": 1,
      "metadata": {
        "colab": {
          "base_uri": "https://localhost:8080/"
        },
        "id": "2x0jtcweVQnX",
        "outputId": "42753a71-99a5-4c47-eb7a-a3ae68d16a8a"
      },
      "outputs": [
        {
          "output_type": "stream",
          "name": "stdout",
          "text": [
            "Enter the number of rows:  6\n",
            "     *\n",
            "    **\n",
            "   ***\n",
            "  ****\n",
            " *****\n",
            "******\n"
          ]
        }
      ],
      "source": [
        "# Problem: During morning assembly students stand in right aligned rows like staircase.\n",
        "#Given the number of rows n,Print a left aligned triangle of *.\n",
        "\n",
        "n=int(input(\"Enter the number of rows:  \"))\n",
        "\n",
        "for row in range (1,n+1):\n",
        "  print(\" \" * (n - row), end=\"\") #Very imp Line to print empty space\n",
        "  print(\"*\" * row)\n"
      ]
    },
    {
      "cell_type": "code",
      "source": [
        "# to print christmas tree without trunk\n",
        "n=int(input(\"Enter the number of rows: \"))\n",
        "\n",
        "for row in range (1,n+1):\n",
        "  spaces=\" \"* (n-row)   # Spaces to center of the tree\n",
        "  stars=\"*\" *(2*row-1)\n",
        "  print(spaces+stars)\n"
      ],
      "metadata": {
        "colab": {
          "base_uri": "https://localhost:8080/"
        },
        "id": "ZHBh-qX9gOT8",
        "outputId": "a86c9190-e9cc-4992-c272-789e98c6f545"
      },
      "execution_count": null,
      "outputs": [
        {
          "output_type": "stream",
          "name": "stdout",
          "text": [
            "Enter the number of rows: 5\n",
            "    *\n",
            "   ***\n",
            "  *****\n",
            " *******\n",
            "*********\n"
          ]
        }
      ]
    },
    {
      "cell_type": "code",
      "source": [
        "# to print christmas tree with trunk\n",
        "n=int(input(\"Enter the number of rows: \"))\n",
        "\n",
        "for row in range (1,n+1):\n",
        "  spaces=\" \"* (n-row)   # Spaces to center of the tree\n",
        "  stars=\"*\" *(2*row-1)\n",
        "  print(spaces+stars)\n",
        "\n",
        "for _ in range(2):\n",
        "  spaces=\" \"* (n-1)   # For TRUNK\n",
        "  trunk =\"||\"\n",
        "  print(spaces+trunk)\n"
      ],
      "metadata": {
        "colab": {
          "base_uri": "https://localhost:8080/"
        },
        "id": "dD48mqozjn8Y",
        "outputId": "d62bd654-1ef0-4487-d66c-f2b0f9ffe7c9"
      },
      "execution_count": null,
      "outputs": [
        {
          "output_type": "stream",
          "name": "stdout",
          "text": [
            "Enter the number of rows: 4\n",
            "   *\n",
            "  ***\n",
            " *****\n",
            "*******\n",
            "   ||\n",
            "   ||\n"
          ]
        }
      ]
    },
    {
      "cell_type": "code",
      "source": [
        "# Print 5x5 star square\n",
        "for i in range(5):\n",
        "  for j in range(5):\n",
        "    print(\"*\",end=\" \")\n",
        "  print()"
      ],
      "metadata": {
        "colab": {
          "base_uri": "https://localhost:8080/"
        },
        "id": "H2H1qCvwg71s",
        "outputId": "aec122e5-52ed-4ca6-acfd-b5168b586770"
      },
      "execution_count": 8,
      "outputs": [
        {
          "output_type": "stream",
          "name": "stdout",
          "text": [
            "* * * * * \n",
            "* * * * * \n",
            "* * * * * \n",
            "* * * * * \n",
            "* * * * * \n"
          ]
        }
      ]
    },
    {
      "cell_type": "code",
      "source": [
        "# user se value leni hai then make identity matrix\n",
        "n=int(input(\"Enter the number of rows: \"))\n",
        "for i in range(n):\n",
        "  for j in range(n):\n",
        "    if i==j:\n",
        "      print(\"1\", end=\" \")\n",
        "    else:\n",
        "      print(\"0\",end=\" \")\n",
        "  print()\n",
        "\n"
      ],
      "metadata": {
        "colab": {
          "base_uri": "https://localhost:8080/"
        },
        "id": "2duVLaEPiHDb",
        "outputId": "a5fb033e-5458-41bd-b42c-0bea94d901fc"
      },
      "execution_count": 14,
      "outputs": [
        {
          "output_type": "stream",
          "name": "stdout",
          "text": [
            "Enter the number of rows: 8\n",
            "1 0 0 0 0 0 0 0 \n",
            "0 1 0 0 0 0 0 0 \n",
            "0 0 1 0 0 0 0 0 \n",
            "0 0 0 1 0 0 0 0 \n",
            "0 0 0 0 1 0 0 0 \n",
            "0 0 0 0 0 1 0 0 \n",
            "0 0 0 0 0 0 1 0 \n",
            "0 0 0 0 0 0 0 1 \n"
          ]
        }
      ]
    },
    {
      "cell_type": "code",
      "source": [
        "# CHESSBOARD\n",
        "n=int(input(\"Enter the number of rows: \"))\n",
        "for i in range(n):\n",
        "  for j in range(n):\n",
        "    if (i+j)%2==0:\n",
        "      print(\"B\",end=\" \")\n",
        "    else:\n",
        "      print(\"W\",end=\" \")\n",
        "  print()\n"
      ],
      "metadata": {
        "colab": {
          "base_uri": "https://localhost:8080/"
        },
        "id": "ZXVogQSWllZB",
        "outputId": "edab6d82-ca49-4b6e-f883-943aff250e2f"
      },
      "execution_count": 29,
      "outputs": [
        {
          "output_type": "stream",
          "name": "stdout",
          "text": [
            "Enter the number of rows: 8\n",
            "B W B W B W B W \n",
            "W B W B W B W B \n",
            "B W B W B W B W \n",
            "W B W B W B W B \n",
            "B W B W B W B W \n",
            "W B W B W B W B \n",
            "B W B W B W B W \n",
            "W B W B W B W B \n"
          ]
        }
      ]
    }
  ]
}