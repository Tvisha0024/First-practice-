{
  "nbformat": 4,
  "nbformat_minor": 0,
  "metadata": {
    "colab": {
      "provenance": [],
      "authorship_tag": "ABX9TyNKY4iPyaYRGLE0DdHRymXr",
      "include_colab_link": true
    },
    "kernelspec": {
      "name": "python3",
      "display_name": "Python 3"
    },
    "language_info": {
      "name": "python"
    }
  },
  "cells": [
    {
      "cell_type": "markdown",
      "metadata": {
        "id": "view-in-github",
        "colab_type": "text"
      },
      "source": [
        "<a href=\"https://colab.research.google.com/github/Tvisha0024/First-practice-/blob/main/Calculator%20prototype.ipynb\" target=\"_parent\"><img src=\"https://colab.research.google.com/assets/colab-badge.svg\" alt=\"Open In Colab\"/></a>"
      ]
    },
    {
      "cell_type": "code",
      "execution_count": null,
      "metadata": {
        "colab": {
          "base_uri": "https://localhost:8080/"
        },
        "id": "k5BP_UitJpEh",
        "outputId": "c35a80f6-928c-465c-cc32-21ecce26db7e"
      },
      "outputs": [
        {
          "output_type": "stream",
          "name": "stdout",
          "text": [
            " Select 1 for addition,2 for subtraction,3 for multiplication,4 for sin ,5 for cos30,6 for tan30,7 for division\n"
          ]
        }
      ],
      "source": [
        "import math\n",
        "print(\" Select 1 for addition,2 for subtraction,3 for multiplication,4 for sin ,5 for cos30,6 for tan30,7 for division\")\n",
        "operation=int(input(\"Enter your operation::\"))\n",
        "if operation==1:\n",
        "  firstnum=int(input(\"Enter 1st no.\"))\n",
        "  secondnum=int(input(\"Enter the 2nd no.\"))\n",
        "  result=firstnum+secondnum\n",
        "  print(result)\n",
        "elif operation==2:\n",
        "  firstnum=int(input(\"Enter 1st no.\"))\n",
        "  secondnum=int(input(\"Enter the 2nd no.\"))\n",
        "  result=firstnum-secondnum\n",
        "  print(result)\n",
        "elif operation==3:\n",
        "  firstnum=int(input(\"Enter 1st no.\"))\n",
        "  secondnum=int(input(\"Enter the 2nd no.\"))\n",
        "  result=firstnum*secondnum\n",
        "  print(result)\n",
        "elif operation==4:\n",
        "    angle=float(input(\"Enter any angle\"))\n",
        "    result=math.sin(math.radians(angle))      #30 degrees\n",
        "    print(result)"
      ]
    }
  ]
}