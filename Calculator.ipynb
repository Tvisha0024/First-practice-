{
  "nbformat": 4,
  "nbformat_minor": 0,
  "metadata": {
    "colab": {
      "provenance": [],
      "authorship_tag": "ABX9TyP4Qe6ZNAEX/0/Rn3VfTyrD",
      "include_colab_link": true
    },
    "kernelspec": {
      "name": "python3",
      "display_name": "Python 3"
    },
    "language_info": {
      "name": "python"
    }
  },
  "cells": [
    {
      "cell_type": "markdown",
      "metadata": {
        "id": "view-in-github",
        "colab_type": "text"
      },
      "source": [
        "<a href=\"https://colab.research.google.com/github/Tvisha0024/First-practice-/blob/main/Calculator.ipynb\" target=\"_parent\"><img src=\"https://colab.research.google.com/assets/colab-badge.svg\" alt=\"Open In Colab\"/></a>"
      ]
    },
    {
      "cell_type": "code",
      "execution_count": 30,
      "metadata": {
        "colab": {
          "base_uri": "https://localhost:8080/"
        },
        "id": "yRMRU4lH1rNJ",
        "outputId": "c57838cc-8a4e-4178-8b8a-d97e3aefe930"
      },
      "outputs": [
        {
          "output_type": "stream",
          "name": "stdout",
          "text": [
            "nohtyp\n"
          ]
        }
      ],
      "source": [
        "s=\"python\"\n",
        "reverse=s[::-1]\n",
        "print(reverse)"
      ]
    },
    {
      "cell_type": "code",
      "source": [
        "s=\"Programming\"\n",
        "print(s[3:7])"
      ],
      "metadata": {
        "colab": {
          "base_uri": "https://localhost:8080/"
        },
        "id": "cdFyjQic4MN7",
        "outputId": "5e4cb4bb-2ef1-40be-ee05-c4f2756d6d07"
      },
      "execution_count": 27,
      "outputs": [
        {
          "output_type": "stream",
          "name": "stdout",
          "text": [
            "gram\n"
          ]
        }
      ]
    },
    {
      "cell_type": "code",
      "source": [
        "s=\"OpenAI\"\n",
        "print(s[1:5])"
      ],
      "metadata": {
        "colab": {
          "base_uri": "https://localhost:8080/"
        },
        "id": "7V15SaEP2-9Y",
        "outputId": "29359501-2117-4764-8308-4d3c436899d0"
      },
      "execution_count": 28,
      "outputs": [
        {
          "output_type": "stream",
          "name": "stdout",
          "text": [
            "penA\n"
          ]
        }
      ]
    },
    {
      "cell_type": "code",
      "source": [
        "s=\"ABCDEFGHIJ\"\n",
        "First=s[1]\n",
        "second=s[3]\n",
        "third=s[5]\n",
        "fourth=s[7]\n",
        "print(First)"
      ],
      "metadata": {
        "colab": {
          "base_uri": "https://localhost:8080/"
        },
        "id": "uf3wHI8e5Khi",
        "outputId": "99c7e13a-15cf-45e8-94df-514c683cb8a1"
      },
      "execution_count": 43,
      "outputs": [
        {
          "output_type": "stream",
          "name": "stdout",
          "text": [
            "B\n"
          ]
        }
      ]
    },
    {
      "cell_type": "code",
      "source": [
        "s=\"ABCDEFGHIJ\"\n",
        "result=s[1::2]\n",
        "print(result)"
      ],
      "metadata": {
        "colab": {
          "base_uri": "https://localhost:8080/"
        },
        "id": "udkv5a_75eNG",
        "outputId": "b25d1e36-aba0-4f80-e22f-9aa673803c2b"
      },
      "execution_count": 40,
      "outputs": [
        {
          "output_type": "stream",
          "name": "stdout",
          "text": [
            "BDFHJ\n"
          ]
        }
      ]
    },
    {
      "cell_type": "code",
      "source": [
        "s=\"Artificial\"\n",
        "result=s[-4::]\n",
        "print(result)"
      ],
      "metadata": {
        "colab": {
          "base_uri": "https://localhost:8080/"
        },
        "id": "LiG4R0ha5y2I",
        "outputId": "0cb4043b-89f8-4c31-a37a-4fdf095aabe2"
      },
      "execution_count": 33,
      "outputs": [
        {
          "output_type": "stream",
          "name": "stdout",
          "text": [
            "cial\n"
          ]
        }
      ]
    },
    {
      "cell_type": "code",
      "source": [
        "FirstNum=11\n",
        "SecondNum=20\n",
        "Sum=(FirstNum+SecondNum)\n",
        "print(\"The sum of both numbers is :: \",Sum)"
      ],
      "metadata": {
        "colab": {
          "base_uri": "https://localhost:8080/"
        },
        "id": "QjgMZ4eT7Yl3",
        "outputId": "ed2b5516-052a-4591-cf9c-3f93254a7635"
      },
      "execution_count": 44,
      "outputs": [
        {
          "output_type": "stream",
          "name": "stdout",
          "text": [
            "The sum of both numbers is ::  31\n"
          ]
        }
      ]
    },
    {
      "cell_type": "code",
      "source": [
        "FirstNum=input(\"Enter the value of FirstNum.\")\n",
        "SecondNum=input(\"Enter the value of SecondNum\")\n",
        "sum=FirstNum+SecondNum\n",
        "print(\"The sum of both the numbers is :: \",sum) #Python is taking input as string"
      ],
      "metadata": {
        "colab": {
          "base_uri": "https://localhost:8080/"
        },
        "id": "SV4o3qVM7vOF",
        "outputId": "651e52b3-8326-43e6-abc8-6a9896095325"
      },
      "execution_count": 45,
      "outputs": [
        {
          "output_type": "stream",
          "name": "stdout",
          "text": [
            "Enter the value of FirstNum.10\n",
            "Enter the value of SecondNum12\n",
            "The sum of both the numbers is ::  1012\n"
          ]
        }
      ]
    },
    {
      "cell_type": "code",
      "source": [
        "FirstNum=float(input(\"Enter the value of FirstNum. :: \"))\n",
        "SecondNum=float(input(\"Enter the value of SecondNum. :: \"))\n",
        "sum=FirstNum+SecondNum\n",
        "print(\"The sum of both the numbers is :: \",sum) #Python is taking input as string.\n",
        "#use float other than int as float contains the integers."
      ],
      "metadata": {
        "colab": {
          "base_uri": "https://localhost:8080/"
        },
        "id": "GMgEUKsC86k1",
        "outputId": "b6e0bcd8-3719-40d2-a485-7543540c2728"
      },
      "execution_count": 47,
      "outputs": [
        {
          "output_type": "stream",
          "name": "stdout",
          "text": [
            "Enter the value of FirstNum. :: 10\n",
            "Enter the value of SecondNum. :: 12\n",
            "The sum of both the numbers is ::  22.0\n"
          ]
        }
      ]
    },
    {
      "cell_type": "code",
      "source": [
        " import math\n",
        "firstnum=int(input(\"Enter 1st no.\"))\n",
        "secondnum=int(input(\"Enter the 2nd no.\"))\n",
        "print(\"Ask the user to select 1 for addition,2 for subtraction,3 for multiplication,4 for sin30,5 for cos30,6 for tan30,7 for division\")\n",
        "operation=int(input(\"Enter your operation::\"))\n",
        "if operation==1:\n",
        "  result=firstnum+secondnum\n",
        "  print(result)\n",
        "elif operation==2:\n",
        "    result=firstnum-secondnum\n",
        "    print(result)\n",
        "elif operation==3:\n",
        "      result=firstnum*secondnum\n",
        "      print(result)\n",
        "elif operation==4:\n",
        "        result=math.sin(math.radian(30))\n",
        "print(result)"
      ],
      "metadata": {
        "id": "XIV5iZY5Cvi4"
      },
      "execution_count": null,
      "outputs": []
    },
    {
      "cell_type": "code",
      "source": [
        " import math\n",
        "firstnum=int(input(\"Enter 1st no.\"))\n",
        "secondnum=int(input(\"Enter the 2nd no.\"))\n",
        "print(\"Ask the user to select 1 for addition,2 for subtraction,3 for multiplication,4 for sin30,5 for cos30,6 for tan30,7 for division\")\n",
        "operation=int(input(\"Enter your operation::\"))\n",
        "if operation==1:\n",
        "  result=firstnum+secondnum\n",
        "  print(result)\n",
        "elif operation==2:\n",
        "    result=firstnum-secondnum\n",
        "    print(result)\n",
        "elif operation==3:\n",
        "      result=firstnum*secondnum\n",
        " print(result)\n"
      ],
      "metadata": {
        "id": "07k0F567INvZ"
      },
      "execution_count": null,
      "outputs": []
    }
  ]
}