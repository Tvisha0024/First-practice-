{
  "nbformat": 4,
  "nbformat_minor": 0,
  "metadata": {
    "colab": {
      "provenance": [],
      "authorship_tag": "ABX9TyO8gA758jzkOeK4abYDqzNq",
      "include_colab_link": true
    },
    "kernelspec": {
      "name": "python3",
      "display_name": "Python 3"
    },
    "language_info": {
      "name": "python"
    }
  },
  "cells": [
    {
      "cell_type": "markdown",
      "metadata": {
        "id": "view-in-github",
        "colab_type": "text"
      },
      "source": [
        "<a href=\"https://colab.research.google.com/github/Tvisha0024/First-practice-/blob/main/FIBONACCI_Series.ipynb\" target=\"_parent\"><img src=\"https://colab.research.google.com/assets/colab-badge.svg\" alt=\"Open In Colab\"/></a>"
      ]
    },
    {
      "cell_type": "code",
      "execution_count": 2,
      "metadata": {
        "colab": {
          "base_uri": "https://localhost:8080/"
        },
        "id": "Fs3Eq6MZlVgV",
        "outputId": "275815ec-0b3b-43c9-c116-971d855c8895"
      },
      "outputs": [
        {
          "output_type": "stream",
          "name": "stdout",
          "text": [
            "Enter the lenth of the series:  5\n",
            "0\n",
            "1\n",
            "1\n",
            "2\n",
            "3\n"
          ]
        }
      ],
      "source": [
        "# In this series first two number are fixed that is 0 and 1,\n",
        "# and the next no. that appears is the sum of preceding two numbers.\n",
        "\n",
        "n=int(input(\"Enter the lenth of the series:  \"))\n",
        "\n",
        "a=0\n",
        "b=1\n",
        "\n",
        "for i in range(n):\n",
        "  print(a)  # a=0 b=1 and c=1\n",
        "  c=a+b     # a=1 and b=1\n",
        "  a=b\n",
        "  b=c"
      ]
    },
    {
      "cell_type": "code",
      "source": [
        "# Fibonacci using recursion\n",
        "def fibonacci(n):\n",
        "  if n==0:\n",
        "    return 0\n",
        "  elif n==1:  #Fn=Fn-1 + Fn-2\n",
        "    return 1\n",
        "  else:\n",
        "    return fibonacci(n-1) + fibonacci(n-2)\n",
        "\n",
        "terms=int(input(\"Enter the number of terms:  \"))\n",
        "print(\"Fibonacci Series\")\n",
        "for i in range(terms):\n",
        "  print(fibonacci (i),end=\" \")"
      ],
      "metadata": {
        "id": "NA30WrSrpnuL"
      },
      "execution_count": null,
      "outputs": []
    }
  ]
}