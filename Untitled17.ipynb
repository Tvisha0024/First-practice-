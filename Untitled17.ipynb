{
  "nbformat": 4,
  "nbformat_minor": 0,
  "metadata": {
    "colab": {
      "provenance": [],
      "authorship_tag": "ABX9TyNGr6E2vVBvBCkvR8SorBMv",
      "include_colab_link": true
    },
    "kernelspec": {
      "name": "python3",
      "display_name": "Python 3"
    },
    "language_info": {
      "name": "python"
    }
  },
  "cells": [
    {
      "cell_type": "markdown",
      "metadata": {
        "id": "view-in-github",
        "colab_type": "text"
      },
      "source": [
        "<a href=\"https://colab.research.google.com/github/Tvisha0024/First-practice-/blob/main/Untitled17.ipynb\" target=\"_parent\"><img src=\"https://colab.research.google.com/assets/colab-badge.svg\" alt=\"Open In Colab\"/></a>"
      ]
    },
    {
      "cell_type": "code",
      "execution_count": 1,
      "metadata": {
        "colab": {
          "base_uri": "https://localhost:8080/",
          "height": 356
        },
        "id": "CEtF3orbvLhT",
        "outputId": "a9965887-b0e4-4041-c9a9-0b6797d7dc2e"
      },
      "outputs": [
        {
          "output_type": "error",
          "ename": "KeyboardInterrupt",
          "evalue": "Interrupted by user",
          "traceback": [
            "\u001b[0;31m---------------------------------------------------------------------------\u001b[0m",
            "\u001b[0;31mKeyboardInterrupt\u001b[0m                         Traceback (most recent call last)",
            "\u001b[0;32m/tmp/ipython-input-1251278621.py\u001b[0m in \u001b[0;36m<cell line: 0>\u001b[0;34m()\u001b[0m\n\u001b[1;32m      9\u001b[0m \u001b[0;34m\u001b[0m\u001b[0m\n\u001b[1;32m     10\u001b[0m \u001b[0;34m\u001b[0m\u001b[0m\n\u001b[0;32m---> 11\u001b[0;31m \u001b[0mName\u001b[0m\u001b[0;34m=\u001b[0m\u001b[0minput\u001b[0m\u001b[0;34m(\u001b[0m\u001b[0;34m\"Name: \"\u001b[0m\u001b[0;34m)\u001b[0m\u001b[0;34m\u001b[0m\u001b[0;34m\u001b[0m\u001b[0m\n\u001b[0m\u001b[1;32m     12\u001b[0m \u001b[0mSubjects\u001b[0m\u001b[0;34m=\u001b[0m\u001b[0mint\u001b[0m\u001b[0;34m(\u001b[0m\u001b[0minput\u001b[0m\u001b[0;34m(\u001b[0m\u001b[0;34m\"Enter the number of subjects: \"\u001b[0m\u001b[0;34m)\u001b[0m\u001b[0;34m)\u001b[0m\u001b[0;34m\u001b[0m\u001b[0;34m\u001b[0m\u001b[0m\n\u001b[1;32m     13\u001b[0m \u001b[0mmarks\u001b[0m \u001b[0;34m=\u001b[0m \u001b[0;34m[\u001b[0m\u001b[0;34m]\u001b[0m\u001b[0;34m\u001b[0m\u001b[0;34m\u001b[0m\u001b[0m\n",
            "\u001b[0;32m/usr/local/lib/python3.12/dist-packages/ipykernel/kernelbase.py\u001b[0m in \u001b[0;36mraw_input\u001b[0;34m(self, prompt)\u001b[0m\n\u001b[1;32m   1175\u001b[0m                 \u001b[0;34m\"raw_input was called, but this frontend does not support input requests.\"\u001b[0m\u001b[0;34m\u001b[0m\u001b[0;34m\u001b[0m\u001b[0m\n\u001b[1;32m   1176\u001b[0m             )\n\u001b[0;32m-> 1177\u001b[0;31m         return self._input_request(\n\u001b[0m\u001b[1;32m   1178\u001b[0m             \u001b[0mstr\u001b[0m\u001b[0;34m(\u001b[0m\u001b[0mprompt\u001b[0m\u001b[0;34m)\u001b[0m\u001b[0;34m,\u001b[0m\u001b[0;34m\u001b[0m\u001b[0;34m\u001b[0m\u001b[0m\n\u001b[1;32m   1179\u001b[0m             \u001b[0mself\u001b[0m\u001b[0;34m.\u001b[0m\u001b[0m_parent_ident\u001b[0m\u001b[0;34m[\u001b[0m\u001b[0;34m\"shell\"\u001b[0m\u001b[0;34m]\u001b[0m\u001b[0;34m,\u001b[0m\u001b[0;34m\u001b[0m\u001b[0;34m\u001b[0m\u001b[0m\n",
            "\u001b[0;32m/usr/local/lib/python3.12/dist-packages/ipykernel/kernelbase.py\u001b[0m in \u001b[0;36m_input_request\u001b[0;34m(self, prompt, ident, parent, password)\u001b[0m\n\u001b[1;32m   1217\u001b[0m             \u001b[0;32mexcept\u001b[0m \u001b[0mKeyboardInterrupt\u001b[0m\u001b[0;34m:\u001b[0m\u001b[0;34m\u001b[0m\u001b[0;34m\u001b[0m\u001b[0m\n\u001b[1;32m   1218\u001b[0m                 \u001b[0;31m# re-raise KeyboardInterrupt, to truncate traceback\u001b[0m\u001b[0;34m\u001b[0m\u001b[0;34m\u001b[0m\u001b[0m\n\u001b[0;32m-> 1219\u001b[0;31m                 \u001b[0;32mraise\u001b[0m \u001b[0mKeyboardInterrupt\u001b[0m\u001b[0;34m(\u001b[0m\u001b[0;34m\"Interrupted by user\"\u001b[0m\u001b[0;34m)\u001b[0m \u001b[0;32mfrom\u001b[0m \u001b[0;32mNone\u001b[0m\u001b[0;34m\u001b[0m\u001b[0;34m\u001b[0m\u001b[0m\n\u001b[0m\u001b[1;32m   1220\u001b[0m             \u001b[0;32mexcept\u001b[0m \u001b[0mException\u001b[0m\u001b[0;34m:\u001b[0m\u001b[0;34m\u001b[0m\u001b[0;34m\u001b[0m\u001b[0m\n\u001b[1;32m   1221\u001b[0m                 \u001b[0mself\u001b[0m\u001b[0;34m.\u001b[0m\u001b[0mlog\u001b[0m\u001b[0;34m.\u001b[0m\u001b[0mwarning\u001b[0m\u001b[0;34m(\u001b[0m\u001b[0;34m\"Invalid Message:\"\u001b[0m\u001b[0;34m,\u001b[0m \u001b[0mexc_info\u001b[0m\u001b[0;34m=\u001b[0m\u001b[0;32mTrue\u001b[0m\u001b[0;34m)\u001b[0m\u001b[0;34m\u001b[0m\u001b[0;34m\u001b[0m\u001b[0m\n",
            "\u001b[0;31mKeyboardInterrupt\u001b[0m: Interrupted by user"
          ]
        }
      ],
      "source": [
        "# \"\"\"Read a student's name, the number of subjects, marks ( 0-100 ), and\n",
        " #'''Problem Statement: attendance percentage ( 0-100 ). Compute:\n",
        " #Overall percentage (2 decimals).\n",
        "# Overall letter grade ( A/B/C/D/F ) from percentage.\n",
        "# GPA ( 0.00-10.00 ) using per-subject grade points, averaged.\n",
        "# Pass/Fail rules with a single-subject grace: if exactly one subject is in [30, 32], raise it to 33 and mark \"Pass with Grace\" : otherwise, any subject < 33 → Fail.\n",
        "# Attendance penalty: if attendance < 75, downgrade the final letter grade by one band (min F) but do not change GPA/Pass status.\n",
        "# Remarks based on final letter grade (after any attendance penalty). Handle boundaries carefully (exactly 30/33/40/60/75/90, exactly 75% attendance, etc.).\"\"\"\n",
        "\n",
        "\n",
        "Name=input(\"Name: \")\n",
        "Subjects=int(input(\"Enter the number of subjects: \"))\n",
        "marks = []\n",
        "for i in range(Subjects):\n",
        "   while True:\n",
        "        try:\n",
        "            mark = int(input(f\"Enter the marks for subject {i+1}: \"))\n",
        "            if 0 <= mark <= 100:\n",
        "                marks.append(mark)\n",
        "                break\n",
        "            else:\n",
        "                print(\"Marks should be between 0 and 100.\")\n",
        "        except ValueError:\n",
        "            print(\"Invalid input. Please enter an integer.\")\n",
        "\n",
        "while True:\n",
        "    try:\n",
        "        attendance = float(input(\"Enter attendance percentage: \"))\n",
        "        if 0 <= attendance <= 100:\n",
        "            break\n",
        "        else:\n",
        "            print(\"Attendance should be between 0 and 100.\")\n",
        "    except ValueError:\n",
        "        print(\"Invalid input. Please enter a number.\")\n",
        "\n",
        "\n",
        "overall_percentage = sum(marks) / Subjects\n",
        "print(f\"Overall Percentage: {overall_percentage:.2f}%\")\n",
        "\n",
        "def get_grade(percentage):\n",
        "    if percentage >= 90:\n",
        "        return 'A'\n",
        "    elif 80 <= percentage < 90:\n",
        "        return 'B'\n",
        "    elif 70 <= percentage < 80:\n",
        "        return 'C'\n",
        "    elif 60 <= percentage < 70:\n",
        "        return 'D'\n",
        "    else:\n",
        "        return 'F'\n",
        "\n",
        "overall_grade = get_grade(overall_percentage)\n",
        "print(\"Overall Grade: \", overall_grade)\n",
        "\n",
        "# Calculate GPA\n",
        "def get_grade_point(mark):\n",
        "    if mark >= 90:\n",
        "        return 10.0\n",
        "    elif 80 <= mark < 90:\n",
        "        return 9.0\n",
        "    elif 70 <= mark < 80:\n",
        "        return 8.0\n",
        "    elif 60 <= mark < 70:\n",
        "        return 7.0\n",
        "    elif 50 <= mark < 60: # Assuming a grading scale that maps marks to grade points\n",
        "        return 6.0\n",
        "    elif 40 <= mark < 50:\n",
        "        return 5.0\n",
        "    elif 33 <= mark < 40:\n",
        "        return 4.0\n",
        "    else:\n",
        "        return 0.0\n",
        "\n",
        "gpa_sum = 0\n",
        "for mark in marks:\n",
        "    gpa_sum += get_grade_point(mark)\n",
        "overall_gpa = gpa_sum / Subjects\n",
        "print(f\"Overall GPA: {overall_gpa:.2f}\")\n",
        "\n",
        "# Pass/Fail status with grace\n",
        "fail_count = 0\n",
        "grace_eligible = False\n",
        "grace_applied = False\n",
        "\n",
        "for mark in marks:\n",
        "    if mark < 33:\n",
        "        fail_count += 1\n",
        "        if mark in [30, 31, 32] and fail_count == 1 and not grace_applied:\n",
        "            grace_eligible = True\n",
        "        else:\n",
        "            grace_eligible = False # More than one subject below 33 or not in grace range\n",
        "\n",
        "if grace_eligible and fail_count == 1:\n",
        "    print(\"Result: Pass with Grace\")\n",
        "elif fail_count > 0:\n",
        "    print(\"Result: Fail\")\n",
        "else:\n",
        "    print(\"Result: Pass\")\n",
        "\n",
        "\n",
        "# Attendance penalty\n",
        "if attendance < 75:\n",
        "    print(\"Attendance below 75%. Applying attendance penalty.\")\n",
        "    if overall_grade == 'A':\n",
        "        final_grade = 'B'\n",
        "    elif overall_grade == 'B':\n",
        "        final_grade = 'C'\n",
        "    elif overall_grade == 'C':\n",
        "        final_grade = 'D'\n",
        "    elif overall_grade == 'D':\n",
        "        final_grade = 'F'\n",
        "    else:\n",
        "        final_grade = 'F' # Cannot be downgraded further than F\n",
        "    print(\"Final Grade (after attendance penalty): \", final_grade)\n",
        "else:\n",
        "    final_grade = overall_grade\n",
        "    print(\"Final Grade: \", final_grade)\n",
        "\n",
        "\n",
        "# Remarks\n",
        "if final_grade == 'A':\n",
        "    print(\"Remarks: Excellent performance!\")\n",
        "elif final_grade == 'B':\n",
        "    print(\"Remarks: Very good performance.\")\n",
        "elif final_grade == 'C':\n",
        "    print(\"Remarks: Good performance.\")\n",
        "elif final_grade == 'D':\n",
        "    print(\"Remarks: Passable performance.\")\n",
        "else:\n",
        "    print(\"Remarks: Needs improvement.\")"
      ]
    },
    {
      "cell_type": "code",
      "source": [
        "#12.\tWrite a program to separate even and odd numbers from a list.\n",
        "Even=[]\n",
        "Odd=[]\n",
        "for i in range(10):\n",
        "  if i%2==0:\n",
        "    Even.append(i)\n",
        "  else:\n",
        "    Odd.append(i)\n",
        "\n",
        "print(\"Even numbers are: \", Even)\n",
        "print(\"Odd numbers are: \",Odd)"
      ],
      "metadata": {
        "id": "ymj-E7ODvgMx"
      },
      "execution_count": null,
      "outputs": []
    },
    {
      "cell_type": "code",
      "source": [
        "#10.\tWrite a program to merge two lists into one\n",
        "list1=input(\"Enter your list: \")\n",
        "list2=input(\"Enter your list: \")\n",
        "\n",
        "list3= list1+list2\n",
        "print(list3)\n"
      ],
      "metadata": {
        "id": "bf0ViB6UviYx"
      },
      "execution_count": null,
      "outputs": []
    },
    {
      "cell_type": "code",
      "source": [
        "#    5.Write a program to calculate the sum of elements in a list.\n",
        "\n",
        "numbers_str = input(\"Enter the numbers, separated by commas:\")\n",
        "numbers_list = [int(num) for num in numbers_str.split(',')]\n",
        "total_sum = sum(numbers_list)\n",
        "print(\"The sum of the numbers is: \", total_sum)"
      ],
      "metadata": {
        "colab": {
          "base_uri": "https://localhost:8080/",
          "height": 356
        },
        "id": "jqesFWjPvtO2",
        "outputId": "6d395157-b4e2-4a29-fddb-cdc2b01b173f"
      },
      "execution_count": 2,
      "outputs": [
        {
          "output_type": "error",
          "ename": "KeyboardInterrupt",
          "evalue": "Interrupted by user",
          "traceback": [
            "\u001b[0;31m---------------------------------------------------------------------------\u001b[0m",
            "\u001b[0;31mKeyboardInterrupt\u001b[0m                         Traceback (most recent call last)",
            "\u001b[0;32m/tmp/ipython-input-2058997422.py\u001b[0m in \u001b[0;36m<cell line: 0>\u001b[0;34m()\u001b[0m\n\u001b[1;32m      1\u001b[0m \u001b[0;31m#    5.Write a program to calculate the sum of elements in a list.\u001b[0m\u001b[0;34m\u001b[0m\u001b[0;34m\u001b[0m\u001b[0m\n\u001b[1;32m      2\u001b[0m \u001b[0;34m\u001b[0m\u001b[0m\n\u001b[0;32m----> 3\u001b[0;31m \u001b[0mnumbers_str\u001b[0m \u001b[0;34m=\u001b[0m \u001b[0minput\u001b[0m\u001b[0;34m(\u001b[0m\u001b[0;34m\"Enter the numbers, separated by commas:\"\u001b[0m\u001b[0;34m)\u001b[0m\u001b[0;34m\u001b[0m\u001b[0;34m\u001b[0m\u001b[0m\n\u001b[0m\u001b[1;32m      4\u001b[0m \u001b[0mnumbers_list\u001b[0m \u001b[0;34m=\u001b[0m \u001b[0;34m[\u001b[0m\u001b[0mint\u001b[0m\u001b[0;34m(\u001b[0m\u001b[0mnum\u001b[0m\u001b[0;34m)\u001b[0m \u001b[0;32mfor\u001b[0m \u001b[0mnum\u001b[0m \u001b[0;32min\u001b[0m \u001b[0mnumbers_str\u001b[0m\u001b[0;34m.\u001b[0m\u001b[0msplit\u001b[0m\u001b[0;34m(\u001b[0m\u001b[0;34m','\u001b[0m\u001b[0;34m)\u001b[0m\u001b[0;34m]\u001b[0m\u001b[0;34m\u001b[0m\u001b[0;34m\u001b[0m\u001b[0m\n\u001b[1;32m      5\u001b[0m \u001b[0mtotal_sum\u001b[0m \u001b[0;34m=\u001b[0m \u001b[0msum\u001b[0m\u001b[0;34m(\u001b[0m\u001b[0mnumbers_list\u001b[0m\u001b[0;34m)\u001b[0m\u001b[0;34m\u001b[0m\u001b[0;34m\u001b[0m\u001b[0m\n",
            "\u001b[0;32m/usr/local/lib/python3.12/dist-packages/ipykernel/kernelbase.py\u001b[0m in \u001b[0;36mraw_input\u001b[0;34m(self, prompt)\u001b[0m\n\u001b[1;32m   1175\u001b[0m                 \u001b[0;34m\"raw_input was called, but this frontend does not support input requests.\"\u001b[0m\u001b[0;34m\u001b[0m\u001b[0;34m\u001b[0m\u001b[0m\n\u001b[1;32m   1176\u001b[0m             )\n\u001b[0;32m-> 1177\u001b[0;31m         return self._input_request(\n\u001b[0m\u001b[1;32m   1178\u001b[0m             \u001b[0mstr\u001b[0m\u001b[0;34m(\u001b[0m\u001b[0mprompt\u001b[0m\u001b[0;34m)\u001b[0m\u001b[0;34m,\u001b[0m\u001b[0;34m\u001b[0m\u001b[0;34m\u001b[0m\u001b[0m\n\u001b[1;32m   1179\u001b[0m             \u001b[0mself\u001b[0m\u001b[0;34m.\u001b[0m\u001b[0m_parent_ident\u001b[0m\u001b[0;34m[\u001b[0m\u001b[0;34m\"shell\"\u001b[0m\u001b[0;34m]\u001b[0m\u001b[0;34m,\u001b[0m\u001b[0;34m\u001b[0m\u001b[0;34m\u001b[0m\u001b[0m\n",
            "\u001b[0;32m/usr/local/lib/python3.12/dist-packages/ipykernel/kernelbase.py\u001b[0m in \u001b[0;36m_input_request\u001b[0;34m(self, prompt, ident, parent, password)\u001b[0m\n\u001b[1;32m   1217\u001b[0m             \u001b[0;32mexcept\u001b[0m \u001b[0mKeyboardInterrupt\u001b[0m\u001b[0;34m:\u001b[0m\u001b[0;34m\u001b[0m\u001b[0;34m\u001b[0m\u001b[0m\n\u001b[1;32m   1218\u001b[0m                 \u001b[0;31m# re-raise KeyboardInterrupt, to truncate traceback\u001b[0m\u001b[0;34m\u001b[0m\u001b[0;34m\u001b[0m\u001b[0m\n\u001b[0;32m-> 1219\u001b[0;31m                 \u001b[0;32mraise\u001b[0m \u001b[0mKeyboardInterrupt\u001b[0m\u001b[0;34m(\u001b[0m\u001b[0;34m\"Interrupted by user\"\u001b[0m\u001b[0;34m)\u001b[0m \u001b[0;32mfrom\u001b[0m \u001b[0;32mNone\u001b[0m\u001b[0;34m\u001b[0m\u001b[0;34m\u001b[0m\u001b[0m\n\u001b[0m\u001b[1;32m   1220\u001b[0m             \u001b[0;32mexcept\u001b[0m \u001b[0mException\u001b[0m\u001b[0;34m:\u001b[0m\u001b[0;34m\u001b[0m\u001b[0;34m\u001b[0m\u001b[0m\n\u001b[1;32m   1221\u001b[0m                 \u001b[0mself\u001b[0m\u001b[0;34m.\u001b[0m\u001b[0mlog\u001b[0m\u001b[0;34m.\u001b[0m\u001b[0mwarning\u001b[0m\u001b[0;34m(\u001b[0m\u001b[0;34m\"Invalid Message:\"\u001b[0m\u001b[0;34m,\u001b[0m \u001b[0mexc_info\u001b[0m\u001b[0;34m=\u001b[0m\u001b[0;32mTrue\u001b[0m\u001b[0;34m)\u001b[0m\u001b[0;34m\u001b[0m\u001b[0;34m\u001b[0m\u001b[0m\n",
            "\u001b[0;31mKeyboardInterrupt\u001b[0m: Interrupted by user"
          ]
        }
      ]
    },
    {
      "cell_type": "code",
      "source": [
        "#2.     Input 5 numbers from the user and store them in a list.\n",
        "numbers=[]\n",
        "for i in range(5):\n",
        "  number=input(f\"Enter number {i+1}: \")\n",
        "  numbers.append(number)\n",
        "\n",
        "print(\"The list of numbers is: \", numbers)"
      ],
      "metadata": {
        "colab": {
          "base_uri": "https://localhost:8080/"
        },
        "id": "P9XWcCgmvlK0",
        "outputId": "62c24589-4452-48c3-894d-d761c857ed39"
      },
      "execution_count": 5,
      "outputs": [
        {
          "output_type": "stream",
          "name": "stdout",
          "text": [
            "Enter number 1: 3\n",
            "Enter number 2: 4\n",
            "Enter number 3: 2\n",
            "Enter number 4: 6\n",
            "Enter number 5: 5\n",
            "The list of numbers is:  ['3', '4', '2', '6', '5']\n"
          ]
        }
      ]
    },
    {
      "cell_type": "code",
      "source": [
        "#4.     Write a program to find the maximum and minimum number in a list without using max and min\n",
        "numbers_str = input(\"Enter the numbers, separated by commas: \")\n",
        "numbers_list = [int(num) for num in numbers_str.split(',')]\n",
        "\n",
        "if not numbers_list:\n",
        "    print(\"The list is empty.\")\n",
        "else:\n",
        "    maximum = numbers_list[0]\n",
        "    minimum = numbers_list[0]\n",
        "\n",
        "    for number in numbers_list:\n",
        "        if number > maximum:\n",
        "            maximum = number\n",
        "        if number < minimum:\n",
        "            minimum = number\n",
        "\n",
        "    print(\"The maximum number is:\", maximum)\n",
        "    print(\"The minimum number is:\", minimum)"
      ],
      "metadata": {
        "colab": {
          "base_uri": "https://localhost:8080/"
        },
        "id": "3XqDLe2kxZkI",
        "outputId": "bea30fd8-b381-44dd-830d-2c90cc542f76"
      },
      "execution_count": 8,
      "outputs": [
        {
          "output_type": "stream",
          "name": "stdout",
          "text": [
            "Enter the numbers, separated by commas: 3,4,6\n",
            "The maximum number is: 6\n",
            "The minimum number is: 3\n"
          ]
        }
      ]
    }
  ]
}